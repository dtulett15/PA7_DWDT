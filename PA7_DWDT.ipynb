{
 "cells": [
  {
   "cell_type": "markdown",
   "metadata": {},
   "source": [
    "# Programming Assignment 7\n",
    "---\n",
    "**Author:** Robert Kelley  \n",
    "**Version:** 1.0  \n",
    "**Semester:** Fall 2020  \n",
    "\n",
    "This *notebook* contains my solution to **Programming Assignment 7**\n",
    "\n",
    "- Problem 1: Take a 5 letter word input from the user and return all trigrams\n",
    "- Problem 2: Take a word math problem from the user and manipulate the string to create the actual math operation. Then return the output."
   ]
  },
  {
   "cell_type": "markdown",
   "metadata": {},
   "source": [
    "## Problem 1:"
   ]
  },
  {
   "cell_type": "code",
   "execution_count": null,
   "metadata": {},
   "outputs": [],
   "source": [
    "import itertools as it\n",
    "import functools as ft\n",
    "import operator"
   ]
  },
  {
   "cell_type": "code",
   "execution_count": null,
   "metadata": {},
   "outputs": [],
   "source": [
    "def trigrams(word):\n",
    "    \"\"\"Takes a string and returns every 3 character permutations.\"\"\"\n",
    "    perms = list(it.permutations(word,3))\n",
    "    str_perms = []\n",
    "    for w in perms:\n",
    "        str_perms.append(ft.reduce(operator.add, w))\n",
    "    return str_perms\n"
   ]
  },
  {
   "cell_type": "code",
   "execution_count": null,
   "metadata": {},
   "outputs": [],
   "source": [
    "word = input(\"Enter a five letter word: \")\n",
    "while word != '0':\n",
    "    if len(word) != 5:\n",
    "        print('Word must be 5 letters long!')\n",
    "        print()\n",
    "    else:\n",
    "        print(trigrams(word))\n",
    "        print()\n",
    "    word = input(\"Enter a five letter word: \")\n"
   ]
  },
  {
   "cell_type": "markdown",
   "metadata": {},
   "source": [
    "## Problem 2:"
   ]
  },
  {
   "cell_type": "code",
   "execution_count": null,
   "metadata": {},
   "outputs": [],
   "source": [
    "op_dict = dict([\n",
    "    ('one',1),('two',2),('three',3),('four',4),('five',5),\n",
    "    ('six',6),('seven',7),('eight',8),('nine',9),('ten',10),\n",
    "])"
   ]
  },
  {
   "cell_type": "code",
   "execution_count": null,
   "metadata": {},
   "outputs": [],
   "source": [
    "op_dict"
   ]
  },
  {
   "cell_type": "code",
   "execution_count": null,
   "metadata": {},
   "outputs": [],
   "source": [
    "def word_operation():\n",
    "    d = word_op.split()\n",
    "    a = op_dict[d[0]]\n",
    "    b = op_dict[d[-1]]\n",
    "    if d[1] == 'plus':\n",
    "        return(f'{a} + {b} = {a+b}')\n",
    "    elif d[1] == 'minus':\n",
    "        return(f'{a} - {b} = {a-b}')\n",
    "    elif d[1] == 'times':\n",
    "        return(f'{a} x {b} = {a*b}')\n",
    "    elif d[1] == 'divided':\n",
    "        return(f'{a} ÷ {b} = {a/b}')\n",
    "    else:\n",
    "        return('I cannot evaluate this expression!')"
   ]
  },
  {
   "cell_type": "code",
   "execution_count": null,
   "metadata": {},
   "outputs": [],
   "source": [
    "word_op = input(\"Enter a simple arithmetic expression in words: \")\n",
    "while word_op !='0':\n",
    "    print(word_operation())\n",
    "    word_op = input(\"Enter a simple arithmetic expression in words: \")\n"
   ]
  },
  {
   "cell_type": "code",
   "execution_count": null,
   "metadata": {},
   "outputs": [],
   "source": []
  }
 ],
 "metadata": {
  "kernelspec": {
   "display_name": "Python 3",
   "language": "python",
   "name": "python3"
  },
  "language_info": {
   "codemirror_mode": {
    "name": "ipython",
    "version": 3
   },
   "file_extension": ".py",
   "mimetype": "text/x-python",
   "name": "python",
   "nbconvert_exporter": "python",
   "pygments_lexer": "ipython3",
   "version": "3.8.3"
  }
 },
 "nbformat": 4,
 "nbformat_minor": 4
}
